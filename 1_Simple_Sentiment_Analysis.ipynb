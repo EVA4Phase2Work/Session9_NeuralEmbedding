{
  "nbformat": 4,
  "nbformat_minor": 0,
  "metadata": {
    "kernelspec": {
      "display_name": "Python 3",
      "language": "python",
      "name": "python3"
    },
    "language_info": {
      "codemirror_mode": {
        "name": "ipython",
        "version": 3
      },
      "file_extension": ".py",
      "mimetype": "text/x-python",
      "name": "python",
      "nbconvert_exporter": "python",
      "pygments_lexer": "ipython3",
      "version": "3.7.0"
    },
    "colab": {
      "name": "1 - Simple Sentiment Analysis.ipynb",
      "provenance": []
    },
    "accelerator": "GPU"
  },
  "cells": [
    {
      "cell_type": "markdown",
      "metadata": {
        "id": "lignkabU6QhR"
      },
      "source": [
        "# 1 - Simple Sentiment Analysis\n",
        "\n",
        "In this series we'll be building a machine learning model to detect sentiment (i.e. detect if a sentence is positive or negative) using PyTorch and TorchText. This will be done on movie reviews, using the [IMDb dataset](http://ai.stanford.edu/~amaas/data/sentiment/).\n",
        "\n",
        "In this first notebook, we'll start very simple to understand the general concepts whilst not really caring about good results. Further notebooks will build on this knowledge and we'll actually get good results.\n",
        "\n",
        "### Introduction\n",
        "\n",
        "We'll be using a **recurrent neural network** (RNN) as they are commonly used in analysing sequences. An RNN takes in sequence of words, $X=\\{x_1, ..., x_T\\}$, one at a time, and produces a _hidden state_, $h$, for each word. We use the RNN _recurrently_ by feeding in the current word $x_t$ as well as the hidden state from the previous word, $h_{t-1}$, to produce the next hidden state, $h_t$. \n",
        "\n",
        "$$h_t = \\text{RNN}(x_t, h_{t-1})$$\n",
        "\n",
        "Once we have our final hidden state, $h_T$, (from feeding in the last word in the sequence, $x_T$) we feed it through a linear layer, $f$, (also known as a fully connected layer), to receive our predicted sentiment, $\\hat{y} = f(h_T)$.\n",
        "\n",
        "Below shows an example sentence, with the RNN predicting zero, which indicates a negative sentiment. The RNN is shown in orange and the linear layer shown in silver. Note that we use the same RNN for every word, i.e. it has the same parameters. The initial hidden state, $h_0$, is a tensor initialized to all zeros. \n",
        "\n",
        "![](assets/sentiment1.png)\n",
        "\n",
        "**Note:** some layers and steps have been omitted from the diagram, but these will be explained later."
      ]
    },
    {
      "cell_type": "markdown",
      "metadata": {
        "id": "E2RJVxY16QhT"
      },
      "source": [
        "## Preparing Data\n",
        "\n",
        "One of the main concepts of TorchText is the `Field`. These define how your data should be processed. In our sentiment classification task the data consists of both the raw string of the review and the sentiment, either \"pos\" or \"neg\".\n",
        "\n",
        "The parameters of a `Field` specify how the data should be processed. \n",
        "\n",
        "We use the `TEXT` field to define how the review should be processed, and the `LABEL` field to process the sentiment. \n",
        "\n",
        "Our `TEXT` field has `tokenize='spacy'` as an argument. This defines that the \"tokenization\" (the act of splitting the string into discrete \"tokens\") should be done using the [spaCy](https://spacy.io) tokenizer. If no `tokenize` argument is passed, the default is simply splitting the string on spaces.\n",
        "\n",
        "`LABEL` is defined by a `LabelField`, a special subset of the `Field` class specifically used for handling labels. We will explain the `dtype` argument later.\n",
        "\n",
        "For more on `Fields`, go [here](https://github.com/pytorch/text/blob/master/torchtext/data/field.py).\n",
        "\n",
        "We also set the random seeds for reproducibility. "
      ]
    },
    {
      "cell_type": "code",
      "metadata": {
        "id": "p8BICEWg6QhU"
      },
      "source": [
        "import torch\n",
        "from torchtext import data\n",
        "\n",
        "SEED = 1234\n",
        "\n",
        "torch.manual_seed(SEED)\n",
        "torch.backends.cudnn.deterministic = True\n",
        "\n",
        "TEXT = data.Field(tokenize = 'spacy')\n",
        "LABEL = data.LabelField(dtype = torch.float)"
      ],
      "execution_count": 1,
      "outputs": []
    },
    {
      "cell_type": "markdown",
      "metadata": {
        "id": "420A-SQB6QhX"
      },
      "source": [
        "Another handy feature of TorchText is that it has support for common datasets used in natural language processing (NLP). \n",
        "\n",
        "The following code automatically downloads the IMDb dataset and splits it into the canonical train/test splits as `torchtext.datasets` objects. It process the data using the `Fields` we have previously defined. The IMDb dataset consists of 50,000 movie reviews, each marked as being a positive or negative review."
      ]
    },
    {
      "cell_type": "code",
      "metadata": {
        "id": "oC5TuZIy6QhX",
        "outputId": "51636340-e291-4665-8caf-cecae313b89c",
        "colab": {
          "base_uri": "https://localhost:8080/",
          "height": 52
        }
      },
      "source": [
        "from torchtext import datasets\n",
        "\n",
        "train_data, test_data = datasets.IMDB.splits(TEXT, LABEL)"
      ],
      "execution_count": 2,
      "outputs": [
        {
          "output_type": "stream",
          "text": [
            "downloading aclImdb_v1.tar.gz\n"
          ],
          "name": "stdout"
        },
        {
          "output_type": "stream",
          "text": [
            "aclImdb_v1.tar.gz: 100%|██████████| 84.1M/84.1M [00:08<00:00, 9.62MB/s]\n"
          ],
          "name": "stderr"
        }
      ]
    },
    {
      "cell_type": "markdown",
      "metadata": {
        "id": "mvLfDHmx6Qha"
      },
      "source": [
        "We can see how many examples are in each split by checking their length."
      ]
    },
    {
      "cell_type": "code",
      "metadata": {
        "id": "y0-xm6t56Qha",
        "outputId": "a1b00190-551d-475e-fa34-e06eb8734547",
        "colab": {
          "base_uri": "https://localhost:8080/",
          "height": 52
        }
      },
      "source": [
        "print(f'Number of training examples: {len(train_data)}')\n",
        "print(f'Number of testing examples: {len(test_data)}')"
      ],
      "execution_count": 3,
      "outputs": [
        {
          "output_type": "stream",
          "text": [
            "Number of training examples: 25000\n",
            "Number of testing examples: 25000\n"
          ],
          "name": "stdout"
        }
      ]
    },
    {
      "cell_type": "markdown",
      "metadata": {
        "id": "llJC9wd86Qhd"
      },
      "source": [
        "We can also check an example."
      ]
    },
    {
      "cell_type": "code",
      "metadata": {
        "id": "lGXyNXfW6Qhd",
        "outputId": "bc073620-b706-462c-95da-7e5e6c41ad31",
        "colab": {
          "base_uri": "https://localhost:8080/",
          "height": 55
        }
      },
      "source": [
        "print(vars(train_data.examples[0]))"
      ],
      "execution_count": 4,
      "outputs": [
        {
          "output_type": "stream",
          "text": [
            "{'text': ['\"', 'The', 'Blob', '\"', 'qualifies', 'as', 'a', 'cult', 'sci', '-', 'fi', 'film', 'not', 'only', 'because', 'it', 'launched', '27-year', 'old', 'Steve', 'McQueen', 'on', 'a', 'trajectory', 'to', 'superstardom', ',', 'but', 'also', 'because', 'it', 'exploited', 'the', 'popular', 'themes', 'both', 'of', 'alien', 'invasion', 'and', 'teenage', 'delinquency', 'that', 'were', 'inseparable', 'in', 'the', '1950s', '.', 'Interestingly', ',', 'nobody', 'in', 'the', 'Kay', 'Linaker', '&', 'Theodore', 'Simonson', 'screenplay', 'ever', 'refers', 'to', 'the', 'amorphous', ',', 'scarlet', '-', 'red', 'protoplasm', 'that', 'plummeted', 'to', 'Earth', 'in', 'a', 'meteor', 'and', 'menaced', 'everybody', 'in', 'the', 'small', 'town', 'of', 'Downingtown', 'Pennsylvania', 'on', 'a', 'Friday', 'night', 'as', '\"', 'The', 'Blob', '.', '\"', 'Steve', 'McQueen', 'won', 'the', 'role', 'of', 'Josh', 'Randall', ',', 'the', 'old', 'West', 'bounty', 'hunter', 'in', '\"', 'Wanted', ':', 'Dead', 'or', 'Alive', ',', '\"', 'after', 'producer', 'Dick', 'Powell', 'saw', 'this', 'Paramount', 'Pictures', \"'\", 'release', '.', 'Meanwhile', 'McQueen', \"'s\", 'attractive', 'girlfriend', 'Aneta', 'Corsaut', 'went', 'on', 'to', 'star', 'opposite', 'Andy', 'Griffith', 'in', '\"', 'The', 'Andy', 'Griffith', 'Show', '\"', 'as', 'Sheriff', 'Taylor', \"'s\", 'school', 'teacher', 'girlfriend', 'Helen', 'Crump', '.', 'Of', 'course', ',', 'neither', 'McQueen', 'nor', 'Corsaut', 'were', 'teenagers', ',', 'but', 'then', 'rarely', 'did', 'actual', 'teenagers', 'play', 'actual', 'teenagers', '.', 'Director', 'Irvin', 'S.', 'Yeaworth', ',', 'Jr.', ',', 'made', 'his', 'directorial', 'debut', 'with', '\"', 'The', 'Blob', '.', '\"', 'Linaker', '&', 'Simonson', \"'s\", 'screenplay', 'synthesized', 'four', 'genres', ':', 'first', ',', 'the', 'alien', 'invasion', ';', 'second', ',', 'teenage', 'delinquency', ';', 'third', ',', 'a', 'murder', 'mystery', ',', 'and', 'fourth', ';', 'a', 'horror', 'chiller', '.', 'Moreover', ',', 'while', 'the', 'gelatinous', 'substance', 'assumes', 'various', 'shapes', ',', 'it', 'remains', 'largely', 'anonymous', '.', 'In', 'other', 'words', ',', 'the', 'eponymous', 'Jell', '-', 'O', 'neither', 'talks', 'nor', 'communicates', 'by', 'telepathy', '.', 'Instead', ',', 'it', 'kills', 'without', 'a', 'qualm', 'and', 'discriminates', 'against', 'nobody', '.', 'The', 'tone', 'of', '\"', 'The', 'Blob', '\"', 'is', 'fairly', 'serious', 'in', 'spite', 'of', 'its', 'somewhat', 'campy', 'nature.<br', '/><br', '/>As', 'the', 'filmmakers', 'point', 'out', 'on', 'the', 'Criterion', 'DVD', 'release', 'of', '\"', 'The', 'Blob', ',', '\"', 'the', 'movie', 'opens', 'uncharacteristically', 'for', 'a', 'sci', '-', 'fi', 'horror', 'thriller', 'with', 'our', 'hero', 'and', 'heroine', 'in', 'a', 'remote', 'rural', 'locale', 'making', 'out', 'and', 'kissing', '.', 'Jane', '(', 'Anita', 'Corsaut', ')', 'and', 'Steve', '(', 'Steve', 'McQueen', ')', 'see', 'a', 'large', 'meteor', 'fall', 'to', 'the', 'earth', 'and', 'drive', 'off', 'to', 'find', 'it', '.', 'Meanwhile', ',', 'an', 'old', 'man', 'finds', 'the', 'meteor', 'and', 'prods', 'it', 'with', 'a', 'stick', '.', 'The', 'meteor', 'cracks', 'open', 'and', 'a', 'slimy', 'bunch', 'of', 'goop', 'clings', 'to', 'the', 'stick', '.', 'When', 'the', 'old', 'timer', '(', 'Olin', 'Howland', 'of', '\"', 'The', 'Paleface', '\"', ')', 'gets', 'a', 'closer', 'look', 'at', 'it', ',', 'the', 'goop', 'attaches', 'itself', 'to', 'his', 'hand', '.', 'The', 'old', 'guy', 'runs', 'screaming', 'from', 'the', 'crater', 'and', 'Steve', 'nearly', 'hits', 'him', 'with', 'his', 'jalopy', '.', 'Steve', 'and', 'Jane', 'pick', 'the', 'guy', 'up', 'and', 'take', 'him', 'to', 'see', 'Dr.', 'Hallen', 'in', 'town', '.', '<', 'br', '/><br', '/>Hallen', 'is', 'poised', 'to', 'leave', 'town', 'for', 'a', 'medical', 'conference', 'when', 'Steve', 'and', 'Jane', 'bring', 'the', 'old', 'guy', 'to', 'his', 'office', '.', 'Hallen', 'phones', 'his', 'nurse', 'to', 'return', 'since', 'he', 'may', 'need', 'to', 'perform', 'an', 'amputation', '.', 'Of', 'course', ',', 'Hallen', 'has', 'never', 'seen', 'anything', 'like', 'the', 'substance', 'on', 'the', 'man', \"'s\", 'forearm', '.', 'Hallen', 'sends', 'Steve', 'and', 'Jane', 'to', 'find', 'out', 'what', 'happened', '.', 'Our', 'heroes', 'run', 'into', 'another', 'group', 'of', 'teenagers', 'that', 'ridicule', 'Steve', \"'s\", 'fast', 'driving', '.', 'Steve', 'fools', 'him', 'into', 'a', 'reverse', 'drive', 'race', ',', 'but', 'the', 'local', 'police', 'chief', 'Dave', '(', 'Earl', 'Rowe', ')', 'lets', 'him', 'off', 'the', 'hook', '.', 'Steve', 'and', 'the', 'teenagers', 'visit', 'the', 'site', 'of', 'the', 'meteor', 'crater', 'and', 'find', 'the', 'warm', 'remains', 'of', 'the', 'meteor', '.', 'After', 'they', 'visit', 'the', 'old', 'man', \"'s\", 'house', 'and', 'rescue', 'a', 'dog', ',', 'the', 'teenagers', 'split', 'for', 'a', 'spooky', 'late', 'night', 'movie', 'while', 'Steve', 'and', 'Jane', 'return', 'to', 'Dr.', 'Hallen', \"'s\", 'office', '.', 'During', 'the', 'interim', ',', 'the', 'blob', 'has', 'entirely', 'absorbed', 'the', 'old', 'geezer', ',', 'killed', 'Hallen', \"'s\", 'nurse', 'and', 'attacked', 'the', 'doctor', '.', 'Neither', 'acid', 'thrown', 'on', 'the', 'protoplasm', 'nor', 'Hallen', \"'s\", 'shotgun', 'have', 'any', 'effect', 'on', 'the', 'blob', '.', 'Steve', 'catches', 'a', 'glimpse', 'of', 'the', 'blob', 'absorbing', 'Hallen', '.', 'When', 'Steve', 'and', 'Jane', 'go', 'to', 'the', 'police', 'department', 'to', 'report', 'the', 'incident', ',', 'Dave', 'is', 'frankly', 'incredulous', ',', 'while', 'Sergeant', 'Bert', '(', 'John', 'Benson', ')', 'believes', 'that', 'it', 'is', 'a', 'prank', '.', 'Bert', 'has', 'an', 'axe', 'to', 'grind', 'with', 'teenagers', 'because', 'his', 'wife', 'died', 'when', 'one', 'struck', 'her', 'car.<br', '/><br', '/>Steve', 'and', 'Jane', 'take', 'them', 'to', 'Hallen', \"'s\", 'office', ',', 'but', 'they', 'can', 'find', 'neither', 'hide', 'nor', 'hair', 'of', 'anybody', ',', 'but', 'Dave', 'admits', 'that', 'the', 'office', 'has', 'been', 'vandalized', '.', 'Against', 'Sgt', '.', 'Bert', \"'s\", 'advice', ',', 'Dave', 'turns', 'the', 'teens', 'over', 'to', 'their', 'respective', 'parents', '.', 'No', 'sooner', 'have', 'Steve', 'and', 'Jane', 'fooled', 'their', 'folks', 'into', 'believing', 'that', 'they', 'are', 'snugly', 'asleep', 'in', 'bed', 'than', 'they', 'venture', 'out', 'again', '.', 'They', 'drive', 'into', 'town', 'and', 'spot', 'the', 'old', 'man', \"'s\", 'dog', 'that', 'got', 'away', 'from', 'them', 'in', 'front', 'of', 'a', 'supermarket', '.', 'When', 'they', 'go', 'to', 'retrieve', 'the', 'mutt', ',', 'Steve', 'steps', 'in', 'front', 'of', 'the', 'electric', 'eye', 'door', 'of', 'the', 'grocery', 'store', 'and', 'it', 'opens', '.', 'They', 'find', 'nobody', 'inside', ',', 'but', 'they', 'encounter', 'the', 'blob', '.', 'Steve', 'and', 'Jane', 'take', 'refuge', 'in', 'a', 'freezer', 'and', 'the', 'blob', 'does', \"n't\", 'attack', 'them', '.', 'Later', ',', 'after', 'they', 'escape', ',', 'Steve', 'persuades', 'the', 'teenagers', 'that', 'challenged', 'him', 'in', 'a', 'street', 'race', 'to', 'alert', 'the', 'authorities', 'because', 'he', 'is', 'supposed', 'to', 'be', 'home', 'in', 'bed', '.', 'Police', 'Chief', 'Dave', 'and', 'the', 'fire', 'department', 'arrive', 'at', 'the', 'supermarket', '.', 'Steve', 'tries', 'to', 'convince', 'Dave', 'that', 'the', 'blob', 'is', 'in', 'the', 'store', '.', 'About', 'that', 'time', ',', 'the', 'blob', 'kills', 'the', 'theater', 'projectionist', 'and', 'attacks', 'the', 'moviegoers', '.', 'Suddenly', ',', 'a', 'horde', 'of', 'people', 'exit', 'the', 'theater', 'and', 'Dave', 'believes', 'Steve', '.', 'Steve', 'and', 'Jane', 'wind', 'up', 'at', 'a', 'lunch', 'counter', 'that', 'the', 'blob', 'attacks', '.', 'The', 'proprietor', 'and', 'our', 'heroes', 'hole', 'up', 'in', 'the', 'cellar', 'and', 'Steve', 'discovers', 'that', 'a', 'fire', 'extinguisher', 'with', 'its', 'freezing', 'contents', 'forces', 'the', 'blob', 'to', 'back', 'off.<br', '/><br', '/>The', 'authorities', 'collect', 'every', 'fire', 'extinguisher', 'in', 'town', 'and', 'manage', 'to', 'freeze', 'the', 'blob', '.', 'The', 'Pentagon', 'sends', 'down', 'a', 'team', 'to', 'transport', 'the', 'blob', 'to', 'the', 'North', 'Pole', '.', 'As', 'the', 'remains', 'of', 'the', 'blob', 'drift', 'down', 'to', 'the', 'polar', 'ice', 'pack', ',', 'the', 'end', 'credit', 'appears', 'with', 'a', 'ghostly', 'giant', 'question', 'mark', '.', 'Producer', 'James', 'B.', 'Harris', 'obtained', 'stock', 'military', 'footage', 'of', 'a', 'Globe', 'master', 'military', 'transport', 'plane', 'depositing', 'the', 'parachute', 'and', 'its', 'cargo.<br', '/><br', '/>\"The', 'Blob', '\"', 'proved', 'to', 'be', 'a', 'drive', '-', 'in', 'hit', 'and', 'Steve', 'McQueen', \"'s\", 'surge', 'to', 'stardom', 'gave', 'the', 'film', 'added', 'momentum', '.', 'Unless', 'you', 'are', 'a', 'juvenile', ',', 'this', 'little', 'horror', 'movie', 'is', \"n't\", 'scary', 'at', 'all', ',', 'but', 'Yeaworth', 'and', 'his', 'scenarists', 'create', 'a', 'sufficient', 'amount', 'of', 'paranoia', 'and', 'sympathy', 'for', 'our', 'heroes', '.', 'They', 'never', 'show', 'the', 'blob', 'actually', 'assimilating', 'its', 'victims', 'and', 'leave', 'this', 'to', 'your', 'imagination', ',', 'so', '\"', 'The', 'Blob', '\"', 'is', \"n't\", 'without', 'a', 'modicum', 'of', 'subtlety', '.'], 'label': 'pos'}\n"
          ],
          "name": "stdout"
        }
      ]
    },
    {
      "cell_type": "markdown",
      "metadata": {
        "id": "SU0lO3sH6Qhg"
      },
      "source": [
        "The IMDb dataset only has train/test splits, so we need to create a validation set. We can do this with the `.split()` method. \n",
        "\n",
        "By default this splits 70/30, however by passing a `split_ratio` argument, we can change the ratio of the split, i.e. a `split_ratio` of 0.8 would mean 80% of the examples make up the training set and 20% make up the validation set. \n",
        "\n",
        "We also pass our random seed to the `random_state` argument, ensuring that we get the same train/validation split each time."
      ]
    },
    {
      "cell_type": "code",
      "metadata": {
        "id": "p_nPwBJD6Qhh"
      },
      "source": [
        "import random\n",
        "\n",
        "train_data, valid_data = train_data.split(random_state = random.seed(SEED))"
      ],
      "execution_count": 5,
      "outputs": []
    },
    {
      "cell_type": "markdown",
      "metadata": {
        "id": "2RZ7wc2e6Qho"
      },
      "source": [
        "Again, we'll view how many examples are in each split."
      ]
    },
    {
      "cell_type": "code",
      "metadata": {
        "id": "pdbLdbid6Qho",
        "outputId": "ff8ee0e0-b7e2-4de5-df39-6f9a032da162",
        "colab": {
          "base_uri": "https://localhost:8080/",
          "height": 69
        }
      },
      "source": [
        "print(f'Number of training examples: {len(train_data)}')\n",
        "print(f'Number of validation examples: {len(valid_data)}')\n",
        "print(f'Number of testing examples: {len(test_data)}')"
      ],
      "execution_count": 6,
      "outputs": [
        {
          "output_type": "stream",
          "text": [
            "Number of training examples: 17500\n",
            "Number of validation examples: 7500\n",
            "Number of testing examples: 25000\n"
          ],
          "name": "stdout"
        }
      ]
    },
    {
      "cell_type": "markdown",
      "metadata": {
        "id": "XLdGtj4t6Qhu"
      },
      "source": [
        "Next, we have to build a _vocabulary_. This is a effectively a look up table where every unique word in your data set has a corresponding _index_ (an integer).\n",
        "\n",
        "We do this as our machine learning model cannot operate on strings, only numbers. Each _index_ is used to construct a _one-hot_ vector for each word. A one-hot vector is a vector where all of the elements are 0, except one, which is 1, and dimensionality is the total number of unique words in your vocabulary, commonly denoted by $V$.\n",
        "\n",
        "![](assets/sentiment5.png)\n",
        "\n",
        "The number of unique words in our training set is over 100,000, which means that our one-hot vectors will have over 100,000 dimensions! This will make training slow and possibly won't fit onto your GPU (if you're using one). \n",
        "\n",
        "There are two ways effectively cut down our vocabulary, we can either only take the top $n$ most common words or ignore words that appear less than $m$ times. We'll do the former, only keeping the top 25,000 words.\n",
        "\n",
        "What do we do with words that appear in examples but we have cut from the vocabulary? We replace them with a special _unknown_ or `<unk>` token. For example, if the sentence was \"This film is great and I love it\" but the word \"love\" was not in the vocabulary, it would become \"This film is great and I `<unk>` it\".\n",
        "\n",
        "The following builds the vocabulary, only keeping the most common `max_size` tokens."
      ]
    },
    {
      "cell_type": "code",
      "metadata": {
        "id": "JW7e5Zg56Qhu"
      },
      "source": [
        "MAX_VOCAB_SIZE = 25_000\n",
        "\n",
        "TEXT.build_vocab(train_data, max_size = MAX_VOCAB_SIZE)\n",
        "LABEL.build_vocab(train_data)"
      ],
      "execution_count": 7,
      "outputs": []
    },
    {
      "cell_type": "markdown",
      "metadata": {
        "id": "w3DlJJyg6Qhx"
      },
      "source": [
        "Why do we only build the vocabulary on the training set? When testing any machine learning system you do not want to look at the test set in any way. We do not include the validation set as we want it to reflect the test set as much as possible."
      ]
    },
    {
      "cell_type": "code",
      "metadata": {
        "id": "dwZJw3GY6Qhy",
        "outputId": "56d8274a-e84b-48e7-e8a2-d0b2056d707c",
        "colab": {
          "base_uri": "https://localhost:8080/",
          "height": 52
        }
      },
      "source": [
        "print(f\"Unique tokens in TEXT vocabulary: {len(TEXT.vocab)}\")\n",
        "print(f\"Unique tokens in LABEL vocabulary: {len(LABEL.vocab)}\")"
      ],
      "execution_count": 8,
      "outputs": [
        {
          "output_type": "stream",
          "text": [
            "Unique tokens in TEXT vocabulary: 25002\n",
            "Unique tokens in LABEL vocabulary: 2\n"
          ],
          "name": "stdout"
        }
      ]
    },
    {
      "cell_type": "markdown",
      "metadata": {
        "id": "30X-GJ1a6Qh1"
      },
      "source": [
        "Why is the vocab size 25002 and not 25000? One of the addition tokens is the `<unk>` token and the other is a `<pad>` token.\n",
        "\n",
        "When we feed sentences into our model, we feed a _batch_ of them at a time, i.e. more than one at a time, and all sentences in the batch need to be the same size. Thus, to ensure each sentence in the batch is the same size, any shorter than the longest within the batch are padded.\n",
        "\n",
        "![](assets/sentiment6.png)\n",
        "\n",
        "We can also view the most common words in the vocabulary and their frequencies."
      ]
    },
    {
      "cell_type": "code",
      "metadata": {
        "id": "nNLnz_tD6Qh1",
        "outputId": "751b1d98-7fa2-4b1d-96fc-876b3d1123af",
        "colab": {
          "base_uri": "https://localhost:8080/",
          "height": 55
        }
      },
      "source": [
        "print(TEXT.vocab.freqs.most_common(20))"
      ],
      "execution_count": 9,
      "outputs": [
        {
          "output_type": "stream",
          "text": [
            "[('the', 202946), (',', 192199), ('.', 165679), ('and', 109101), ('a', 109053), ('of', 100868), ('to', 93689), ('is', 76235), ('in', 61202), ('I', 54694), ('it', 53717), ('that', 49349), ('\"', 44319), (\"'s\", 43396), ('this', 42128), ('-', 37113), ('/><br', 35607), ('was', 34975), ('as', 30510), ('with', 29816)]\n"
          ],
          "name": "stdout"
        }
      ]
    },
    {
      "cell_type": "markdown",
      "metadata": {
        "id": "Ha1F4wSI6Qh4"
      },
      "source": [
        "We can also see the vocabulary directly using either the `stoi` (**s**tring **to** **i**nt) or `itos` (**i**nt **to**  **s**tring) method."
      ]
    },
    {
      "cell_type": "code",
      "metadata": {
        "id": "3Ti2Wagn6Qh5",
        "outputId": "ad7eedda-8934-430f-e4e9-2260f64ee0bd",
        "colab": {
          "base_uri": "https://localhost:8080/",
          "height": 35
        }
      },
      "source": [
        "print(TEXT.vocab.itos[:10])"
      ],
      "execution_count": 10,
      "outputs": [
        {
          "output_type": "stream",
          "text": [
            "['<unk>', '<pad>', 'the', ',', '.', 'and', 'a', 'of', 'to', 'is']\n"
          ],
          "name": "stdout"
        }
      ]
    },
    {
      "cell_type": "markdown",
      "metadata": {
        "id": "QFo1mZIU6Qh8"
      },
      "source": [
        "We can also check the labels, ensuring 0 is for negative and 1 is for positive."
      ]
    },
    {
      "cell_type": "code",
      "metadata": {
        "id": "R7aKn0AF6Qh8",
        "outputId": "55b8d813-cc2d-43a9-b666-ae7db6fb49c1",
        "colab": {
          "base_uri": "https://localhost:8080/",
          "height": 35
        }
      },
      "source": [
        "print(LABEL.vocab.stoi)"
      ],
      "execution_count": 11,
      "outputs": [
        {
          "output_type": "stream",
          "text": [
            "defaultdict(<function _default_unk_index at 0x7f8ce4c88ae8>, {'neg': 0, 'pos': 1})\n"
          ],
          "name": "stdout"
        }
      ]
    },
    {
      "cell_type": "markdown",
      "metadata": {
        "id": "ZM1r4kv06Qh_"
      },
      "source": [
        "The final step of preparing the data is creating the iterators. We iterate over these in the training/evaluation loop, and they return a batch of examples (indexed and converted into tensors) at each iteration.\n",
        "\n",
        "We'll use a `BucketIterator` which is a special type of iterator that will return a batch of examples where each example is of a similar length, minimizing the amount of padding per example.\n",
        "\n",
        "We also want to place the tensors returned by the iterator on the GPU (if you're using one). PyTorch handles this using `torch.device`, we then pass this device to the iterator."
      ]
    },
    {
      "cell_type": "code",
      "metadata": {
        "id": "H4-Lo8q76QiA"
      },
      "source": [
        "BATCH_SIZE = 64\n",
        "\n",
        "device = torch.device('cuda' if torch.cuda.is_available() else 'cpu')\n",
        "\n",
        "train_iterator, valid_iterator, test_iterator = data.BucketIterator.splits(\n",
        "    (train_data, valid_data, test_data), \n",
        "    batch_size = BATCH_SIZE,\n",
        "    device = device)"
      ],
      "execution_count": 12,
      "outputs": []
    },
    {
      "cell_type": "markdown",
      "metadata": {
        "id": "pZ_pNHFJ6QiC"
      },
      "source": [
        "## Build the Model\n",
        "\n",
        "The next stage is building the model that we'll eventually train and evaluate. \n",
        "\n",
        "There is a small amount of boilerplate code when creating models in PyTorch, note how our `RNN` class is a sub-class of `nn.Module` and the use of `super`.\n",
        "\n",
        "Within the `__init__` we define the _layers_ of the module. Our three layers are an _embedding_ layer, our RNN, and a _linear_ layer. All layers have their parameters initialized to random values, unless explicitly specified.\n",
        "\n",
        "The embedding layer is used to transform our sparse one-hot vector (sparse as most of the elements are 0) into a dense embedding vector (dense as the dimensionality is a lot smaller and all the elements are real numbers). This embedding layer is simply a single fully connected layer. As well as reducing the dimensionality of the input to the RNN, there is the theory that words which have similar impact on the sentiment of the review are mapped close together in this dense vector space. For more information about word embeddings, see [here](https://monkeylearn.com/blog/word-embeddings-transform-text-numbers/).\n",
        "\n",
        "The RNN layer is our RNN which takes in our dense vector and the previous hidden state $h_{t-1}$, which it uses to calculate the next hidden state, $h_t$.\n",
        "\n",
        "![](assets/sentiment7.png)\n",
        "\n",
        "Finally, the linear layer takes the final hidden state and feeds it through a fully connected layer, $f(h_T)$, transforming it to the correct output dimension.\n",
        "\n",
        "The `forward` method is called when we feed examples into our model.\n",
        "\n",
        "Each batch, `text`, is a tensor of size _**[sentence length, batch size]**_. That is a batch of sentences, each having each word converted into a one-hot vector. \n",
        "\n",
        "You may notice that this tensor should have another dimension due to the one-hot vectors, however PyTorch conveniently stores a one-hot vector as it's index value, i.e. the tensor representing a sentence is just a tensor of the indexes for each token in that sentence. The act of converting a list of tokens into a list of indexes is commonly called *numericalizing*.\n",
        "\n",
        "The input batch is then passed through the embedding layer to get `embedded`, which gives us a dense vector representation of our sentences. `embedded` is a tensor of size _**[sentence length, batch size, embedding dim]**_.\n",
        "\n",
        "`embedded` is then fed into the RNN. In some frameworks you must feed the initial hidden state, $h_0$, into the RNN, however in PyTorch, if no initial hidden state is passed as an argument it defaults to a tensor of all zeros.\n",
        "\n",
        "The RNN returns 2 tensors, `output` of size _**[sentence length, batch size, hidden dim]**_ and `hidden` of size _**[1, batch size, hidden dim]**_. `output` is the concatenation of the hidden state from every time step, whereas `hidden` is simply the final hidden state. We verify this using the `assert` statement. Note the `squeeze` method, which is used to remove a dimension of size 1. \n",
        "\n",
        "Finally, we feed the last hidden state, `hidden`, through the linear layer, `fc`, to produce a prediction."
      ]
    },
    {
      "cell_type": "code",
      "metadata": {
        "id": "xBVjAHHI6QiD"
      },
      "source": [
        "import torch.nn as nn\n",
        "\n",
        "class RNN(nn.Module):\n",
        "    def __init__(self, input_dim, embedding_dim, hidden_dim, output_dim):\n",
        "        \n",
        "        super().__init__()\n",
        "        \n",
        "        self.embedding = nn.Embedding(input_dim, embedding_dim)\n",
        "        \n",
        "        self.rnn = nn.RNN(embedding_dim, hidden_dim)\n",
        "        \n",
        "        self.fc = nn.Linear(hidden_dim, output_dim)\n",
        "        \n",
        "    def forward(self, text):\n",
        "\n",
        "        #text = [sent len, batch size]\n",
        "        \n",
        "        embedded = self.embedding(text)\n",
        "        \n",
        "        #embedded = [sent len, batch size, emb dim]\n",
        "        \n",
        "        output, hidden = self.rnn(embedded)\n",
        "        \n",
        "        #output = [sent len, batch size, hid dim]\n",
        "        #hidden = [1, batch size, hid dim]\n",
        "        \n",
        "        assert torch.equal(output[-1,:,:], hidden.squeeze(0))\n",
        "        \n",
        "        return self.fc(hidden.squeeze(0))"
      ],
      "execution_count": 13,
      "outputs": []
    },
    {
      "cell_type": "markdown",
      "metadata": {
        "id": "x5YxBRTu6QiG"
      },
      "source": [
        "We now create an instance of our RNN class. \n",
        "\n",
        "The input dimension is the dimension of the one-hot vectors, which is equal to the vocabulary size. \n",
        "\n",
        "The embedding dimension is the size of the dense word vectors. This is usually around 50-250 dimensions, but depends on the size of the vocabulary.\n",
        "\n",
        "The hidden dimension is the size of the hidden states. This is usually around 100-500 dimensions, but also depends on factors such as on the vocabulary size, the size of the dense vectors and the complexity of the task.\n",
        "\n",
        "The output dimension is usually the number of classes, however in the case of only 2 classes the output value is between 0 and 1 and thus can be 1-dimensional, i.e. a single scalar real number."
      ]
    },
    {
      "cell_type": "code",
      "metadata": {
        "id": "imFOyw4g6QiG"
      },
      "source": [
        "INPUT_DIM = len(TEXT.vocab)\n",
        "EMBEDDING_DIM = 100\n",
        "HIDDEN_DIM = 256\n",
        "OUTPUT_DIM = 1\n",
        "\n",
        "model = RNN(INPUT_DIM, EMBEDDING_DIM, HIDDEN_DIM, OUTPUT_DIM)"
      ],
      "execution_count": 14,
      "outputs": []
    },
    {
      "cell_type": "markdown",
      "metadata": {
        "id": "C3oUzFwS6QiJ"
      },
      "source": [
        "Let's also create a function that will tell us how many trainable parameters our model has so we can compare the number of parameters across different models."
      ]
    },
    {
      "cell_type": "code",
      "metadata": {
        "id": "fd5h9msI6QiJ",
        "outputId": "66bbb4ce-e5f8-4346-ef7b-78acd01a8b35",
        "colab": {
          "base_uri": "https://localhost:8080/",
          "height": 35
        }
      },
      "source": [
        "def count_parameters(model):\n",
        "    return sum(p.numel() for p in model.parameters() if p.requires_grad)\n",
        "\n",
        "print(f'The model has {count_parameters(model):,} trainable parameters')"
      ],
      "execution_count": 15,
      "outputs": [
        {
          "output_type": "stream",
          "text": [
            "The model has 2,592,105 trainable parameters\n"
          ],
          "name": "stdout"
        }
      ]
    },
    {
      "cell_type": "markdown",
      "metadata": {
        "id": "i6TIXn3Q6QiM"
      },
      "source": [
        "## Train the Model"
      ]
    },
    {
      "cell_type": "markdown",
      "metadata": {
        "id": "1aTkeyej6QiM"
      },
      "source": [
        "Now we'll set up the training and then train the model.\n",
        "\n",
        "First, we'll create an optimizer. This is the algorithm we use to update the parameters of the module. Here, we'll use _stochastic gradient descent_ (SGD). The first argument is the parameters will be updated by the optimizer, the second is the learning rate, i.e. how much we'll change the parameters by when we do a parameter update."
      ]
    },
    {
      "cell_type": "code",
      "metadata": {
        "id": "Iy7Jl0Ks6QiN"
      },
      "source": [
        "import torch.optim as optim\n",
        "\n",
        "optimizer = optim.SGD(model.parameters(), lr=1e-3)"
      ],
      "execution_count": 16,
      "outputs": []
    },
    {
      "cell_type": "markdown",
      "metadata": {
        "id": "6HoO-atU6QiP"
      },
      "source": [
        "Next, we'll define our loss function. In PyTorch this is commonly called a criterion. \n",
        "\n",
        "The loss function here is _binary cross entropy with logits_. \n",
        "\n",
        "Our model currently outputs an unbound real number. As our labels are either 0 or 1, we want to restrict the predictions to a number between 0 and 1. We do this using the _sigmoid_ or _logit_ functions. \n",
        "\n",
        "We then use this this bound scalar to calculate the loss using binary cross entropy. \n",
        "\n",
        "The `BCEWithLogitsLoss` criterion carries out both the sigmoid and the binary cross entropy steps."
      ]
    },
    {
      "cell_type": "code",
      "metadata": {
        "id": "yMQ2oXb96QiQ"
      },
      "source": [
        "criterion = nn.BCEWithLogitsLoss()"
      ],
      "execution_count": 17,
      "outputs": []
    },
    {
      "cell_type": "markdown",
      "metadata": {
        "id": "cdtxt1_V6QiT"
      },
      "source": [
        "Using `.to`, we can place the model and the criterion on the GPU (if we have one). "
      ]
    },
    {
      "cell_type": "code",
      "metadata": {
        "id": "OdV-U84n6QiT"
      },
      "source": [
        "model = model.to(device)\n",
        "criterion = criterion.to(device)"
      ],
      "execution_count": 18,
      "outputs": []
    },
    {
      "cell_type": "markdown",
      "metadata": {
        "id": "f3dccxg36QiV"
      },
      "source": [
        "Our criterion function calculates the loss, however we have to write our function to calculate the accuracy. \n",
        "\n",
        "This function first feeds the predictions through a sigmoid layer, squashing the values between 0 and 1, we then round them to the nearest integer. This rounds any value greater than 0.5 to 1 (a positive sentiment) and the rest to 0 (a negative sentiment).\n",
        "\n",
        "We then calculate how many rounded predictions equal the actual labels and average it across the batch."
      ]
    },
    {
      "cell_type": "code",
      "metadata": {
        "id": "uIZm_dwN6QiV"
      },
      "source": [
        "def binary_accuracy(preds, y):\n",
        "    \"\"\"\n",
        "    Returns accuracy per batch, i.e. if you get 8/10 right, this returns 0.8, NOT 8\n",
        "    \"\"\"\n",
        "\n",
        "    #round predictions to the closest integer\n",
        "    rounded_preds = torch.round(torch.sigmoid(preds))\n",
        "    correct = (rounded_preds == y).float() #convert into float for division \n",
        "    acc = correct.sum() / len(correct)\n",
        "    return acc"
      ],
      "execution_count": 19,
      "outputs": []
    },
    {
      "cell_type": "markdown",
      "metadata": {
        "id": "xfFNX0K26QiY"
      },
      "source": [
        "The `train` function iterates over all examples, one batch at a time. \n",
        "\n",
        "`model.train()` is used to put the model in \"training mode\", which turns on _dropout_ and _batch normalization_. Although we aren't using them in this model, it's good practice to include it.\n",
        "\n",
        "For each batch, we first zero the gradients. Each parameter in a model has a `grad` attribute which stores the gradient calculated by the `criterion`. PyTorch does not automatically remove (or \"zero\") the gradients calculated from the last gradient calculation, so they must be manually zeroed.\n",
        "\n",
        "We then feed the batch of sentences, `batch.text`, into the model. Note, you do not need to do `model.forward(batch.text)`, simply calling the model works. The `squeeze` is needed as the predictions are initially size _**[batch size, 1]**_, and we need to remove the dimension of size 1 as PyTorch expects the predictions input to our criterion function to be of size _**[batch size]**_.\n",
        "\n",
        "The loss and accuracy are then calculated using our predictions and the labels, `batch.label`, with the loss being averaged over all examples in the batch.\n",
        "\n",
        "We calculate the gradient of each parameter with `loss.backward()`, and then update the parameters using the gradients and optimizer algorithm with `optimizer.step()`.\n",
        "\n",
        "The loss and accuracy is accumulated across the epoch, the `.item()` method is used to extract a scalar from a tensor which only contains a single value.\n",
        "\n",
        "Finally, we return the loss and accuracy, averaged across the epoch. The `len` of an iterator is the number of batches in the iterator.\n",
        "\n",
        "You may recall when initializing the `LABEL` field, we set `dtype=torch.float`. This is because TorchText sets tensors to be `LongTensor`s by default, however our criterion expects both inputs to be `FloatTensor`s. Setting the `dtype` to be `torch.float`, did this for us. The alternative method of doing this would be to do the conversion inside the `train` function by passing `batch.label.float()` instad of `batch.label` to the criterion. "
      ]
    },
    {
      "cell_type": "code",
      "metadata": {
        "id": "MT6zOUw56QiY"
      },
      "source": [
        "def train(model, iterator, optimizer, criterion):\n",
        "    \n",
        "    epoch_loss = 0\n",
        "    epoch_acc = 0\n",
        "    \n",
        "    model.train()\n",
        "    \n",
        "    for batch in iterator:\n",
        "        \n",
        "        optimizer.zero_grad()\n",
        "                \n",
        "        predictions = model(batch.text).squeeze(1)\n",
        "        \n",
        "        loss = criterion(predictions, batch.label)\n",
        "        \n",
        "        acc = binary_accuracy(predictions, batch.label)\n",
        "        \n",
        "        loss.backward()\n",
        "        \n",
        "        optimizer.step()\n",
        "        \n",
        "        epoch_loss += loss.item()\n",
        "        epoch_acc += acc.item()\n",
        "        \n",
        "    return epoch_loss / len(iterator), epoch_acc / len(iterator)"
      ],
      "execution_count": 20,
      "outputs": []
    },
    {
      "cell_type": "markdown",
      "metadata": {
        "id": "hQEdAwO-6Qia"
      },
      "source": [
        "`evaluate` is similar to `train`, with a few modifications as you don't want to update the parameters when evaluating.\n",
        "\n",
        "`model.eval()` puts the model in \"evaluation mode\", this turns off _dropout_ and _batch normalization_. Again, we are not using them in this model, but it is good practice to include them.\n",
        "\n",
        "No gradients are calculated on PyTorch operations inside the `with no_grad()` block. This causes less memory to be used and speeds up computation.\n",
        "\n",
        "The rest of the function is the same as `train`, with the removal of `optimizer.zero_grad()`, `loss.backward()` and `optimizer.step()`, as we do not update the model's parameters when evaluating."
      ]
    },
    {
      "cell_type": "code",
      "metadata": {
        "id": "5JpGYOHn6Qib"
      },
      "source": [
        "def evaluate(model, iterator, criterion):\n",
        "    \n",
        "    epoch_loss = 0\n",
        "    epoch_acc = 0\n",
        "    \n",
        "    model.eval()\n",
        "    \n",
        "    with torch.no_grad():\n",
        "    \n",
        "        for batch in iterator:\n",
        "\n",
        "            predictions = model(batch.text).squeeze(1)\n",
        "            \n",
        "            loss = criterion(predictions, batch.label)\n",
        "            \n",
        "            acc = binary_accuracy(predictions, batch.label)\n",
        "\n",
        "            epoch_loss += loss.item()\n",
        "            epoch_acc += acc.item()\n",
        "        \n",
        "    return epoch_loss / len(iterator), epoch_acc / len(iterator)"
      ],
      "execution_count": 21,
      "outputs": []
    },
    {
      "cell_type": "markdown",
      "metadata": {
        "id": "lVddYFnN6Qie"
      },
      "source": [
        "We'll also create a function to tell us how long an epoch takes to compare training times between models."
      ]
    },
    {
      "cell_type": "code",
      "metadata": {
        "id": "qSFCnZsW6Qie"
      },
      "source": [
        "import time\n",
        "\n",
        "def epoch_time(start_time, end_time):\n",
        "    elapsed_time = end_time - start_time\n",
        "    elapsed_mins = int(elapsed_time / 60)\n",
        "    elapsed_secs = int(elapsed_time - (elapsed_mins * 60))\n",
        "    return elapsed_mins, elapsed_secs"
      ],
      "execution_count": 22,
      "outputs": []
    },
    {
      "cell_type": "markdown",
      "metadata": {
        "id": "xSiaQV_P6Qih"
      },
      "source": [
        "We then train the model through multiple epochs, an epoch being a complete pass through all examples in the training and validation sets.\n",
        "\n",
        "At each epoch, if the validation loss is the best we have seen so far, we'll save the parameters of the model and then after training has finished we'll use that model on the test set."
      ]
    },
    {
      "cell_type": "code",
      "metadata": {
        "id": "tiXM9FPs6Qii",
        "outputId": "ef8ecb65-9bad-4f56-c81b-bfabbe0222bf",
        "colab": {
          "base_uri": "https://localhost:8080/",
          "height": 277
        }
      },
      "source": [
        "N_EPOCHS = 5\n",
        "\n",
        "best_valid_loss = float('inf')\n",
        "\n",
        "for epoch in range(N_EPOCHS):\n",
        "\n",
        "    start_time = time.time()\n",
        "    \n",
        "    train_loss, train_acc = train(model, train_iterator, optimizer, criterion)\n",
        "    valid_loss, valid_acc = evaluate(model, valid_iterator, criterion)\n",
        "    \n",
        "    end_time = time.time()\n",
        "\n",
        "    epoch_mins, epoch_secs = epoch_time(start_time, end_time)\n",
        "    \n",
        "    if valid_loss < best_valid_loss:\n",
        "        best_valid_loss = valid_loss\n",
        "        torch.save(model.state_dict(), 'tut1-model.pt')\n",
        "    \n",
        "    print(f'Epoch: {epoch+1:02} | Epoch Time: {epoch_mins}m {epoch_secs}s')\n",
        "    print(f'\\tTrain Loss: {train_loss:.3f} | Train Acc: {train_acc*100:.2f}%')\n",
        "    print(f'\\t Val. Loss: {valid_loss:.3f} |  Val. Acc: {valid_acc*100:.2f}%')"
      ],
      "execution_count": 23,
      "outputs": [
        {
          "output_type": "stream",
          "text": [
            "Epoch: 01 | Epoch Time: 0m 44s\n",
            "\tTrain Loss: 0.694 | Train Acc: 50.09%\n",
            "\t Val. Loss: 0.697 |  Val. Acc: 49.54%\n",
            "Epoch: 02 | Epoch Time: 0m 43s\n",
            "\tTrain Loss: 0.693 | Train Acc: 49.60%\n",
            "\t Val. Loss: 0.697 |  Val. Acc: 49.49%\n",
            "Epoch: 03 | Epoch Time: 0m 44s\n",
            "\tTrain Loss: 0.693 | Train Acc: 50.10%\n",
            "\t Val. Loss: 0.697 |  Val. Acc: 51.10%\n",
            "Epoch: 04 | Epoch Time: 0m 44s\n",
            "\tTrain Loss: 0.693 | Train Acc: 49.91%\n",
            "\t Val. Loss: 0.697 |  Val. Acc: 49.46%\n",
            "Epoch: 05 | Epoch Time: 0m 44s\n",
            "\tTrain Loss: 0.693 | Train Acc: 50.13%\n",
            "\t Val. Loss: 0.697 |  Val. Acc: 50.87%\n"
          ],
          "name": "stdout"
        }
      ]
    },
    {
      "cell_type": "markdown",
      "metadata": {
        "id": "-cDTsKer6Qik"
      },
      "source": [
        "You may have noticed the loss is not really decreasing and the accuracy is poor. This is due to several issues with the model which we'll improve in the next notebook.\n",
        "\n",
        "Finally, the metric we actually care about, the test loss and accuracy, which we get from our parameters that gave us the best validation loss."
      ]
    },
    {
      "cell_type": "code",
      "metadata": {
        "id": "5wKgGpkK6Qik",
        "outputId": "1bd359d7-9fef-4984-ab77-c21d84558b91",
        "colab": {
          "base_uri": "https://localhost:8080/",
          "height": 35
        }
      },
      "source": [
        "model.load_state_dict(torch.load('tut1-model.pt'))\n",
        "\n",
        "test_loss, test_acc = evaluate(model, test_iterator, criterion)\n",
        "\n",
        "print(f'Test Loss: {test_loss:.3f} | Test Acc: {test_acc*100:.2f}%')"
      ],
      "execution_count": 24,
      "outputs": [
        {
          "output_type": "stream",
          "text": [
            "Test Loss: 0.712 | Test Acc: 45.94%\n"
          ],
          "name": "stdout"
        }
      ]
    },
    {
      "cell_type": "markdown",
      "metadata": {
        "id": "TLdvKhSr6Qim"
      },
      "source": [
        "## Next Steps\n",
        "\n",
        "In the next notebook, the improvements we will make are:\n",
        "- packed padded sequences\n",
        "- pre-trained word embeddings\n",
        "- different RNN architecture\n",
        "- bidirectional RNN\n",
        "- multi-layer RNN\n",
        "- regularization\n",
        "- a different optimizer\n",
        "\n",
        "This will allow us to achieve ~84% accuracy."
      ]
    }
  ]
}